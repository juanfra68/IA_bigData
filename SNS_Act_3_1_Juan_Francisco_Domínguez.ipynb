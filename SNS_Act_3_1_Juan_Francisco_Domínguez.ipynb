{
  "nbformat": 4,
  "nbformat_minor": 0,
  "metadata": {
    "colab": {
      "provenance": [],
      "include_colab_link": true
    },
    "kernelspec": {
      "name": "python3",
      "display_name": "Python 3"
    },
    "language_info": {
      "name": "python"
    }
  },
  "cells": [
    {
      "cell_type": "markdown",
      "metadata": {
        "id": "view-in-github",
        "colab_type": "text"
      },
      "source": [
        "<a href=\"https://colab.research.google.com/github/juanfra68/IA_bigData/blob/main/SNS_Act_3_1_Juan_Francisco_Dom%C3%ADnguez.ipynb\" target=\"_parent\"><img src=\"https://colab.research.google.com/assets/colab-badge.svg\" alt=\"Open In Colab\"/></a>"
      ]
    },
    {
      "cell_type": "markdown",
      "source": [
        "23_24\n",
        "\n",
        "Actividad 3.1 - Métricas de error para los problemas de regresión\n",
        "\n",
        "A partir de los ejemplos indicados realizar los ejercicios propuestos"
      ],
      "metadata": {
        "id": "irnc2RYVuYVU"
      }
    },
    {
      "cell_type": "markdown",
      "source": [
        "https://github.com/juanfra68/IA_bigData/blob/81970aca23c50964816fe90222a546138c2ddf29/SNS_Act_3_1_Juan_Francisco_Dom%C3%ADnguez.ipynb"
      ],
      "metadata": {
        "id": "KT0eFzlpdqHx"
      }
    },
    {
      "cell_type": "markdown",
      "source": [
        "ERROR ABSOLUTO MEDIO: EAM ![imagen.png](data:image/png;base64,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)"
      ],
      "metadata": {
        "id": "Z09YmGLRNMfg"
      }
    },
    {
      "cell_type": "code",
      "execution_count": null,
      "metadata": {
        "colab": {
          "base_uri": "https://localhost:8080/"
        },
        "id": "jVLFdfzxdsfG",
        "outputId": "736d9aac-e6a7-41b2-c4d0-b2b00a3e0877"
      },
      "outputs": [
        {
          "output_type": "execute_result",
          "data": {
            "text/plain": [
              "0.0"
            ]
          },
          "metadata": {},
          "execution_count": 25
        }
      ],
      "source": [
        "#Error absoluto medio - mae\n",
        "from sklearn.metrics import mean_absolute_error\n",
        "# Ejemplo 1\n",
        "y_true = [2.5, 0, 2, 8]\n",
        "y_pred = [2.5, 0, 2, 8]\n",
        "mean_absolute_error(y_true, y_pred)\n"
      ]
    },
    {
      "cell_type": "code",
      "source": [
        "# Ejer 1: Crear dos vectores/arrays de valores ciertos y valores previstos, y calcular el mae.\n",
        "# ¿Qué valores deberían de tener el array pred para que el error fuese 0? ¿y para que error fuese de 0.25?"
      ],
      "metadata": {
        "id": "67XK1bXegMai"
      },
      "execution_count": null,
      "outputs": []
    },
    {
      "cell_type": "markdown",
      "source": [
        "CUANTO MÁS CERCANOS SON LOS DATOS EN VALOR MÁS SE APROXIMA EL ERROR ABSOLUTO A CERO\n",
        "EN ESTE CASO AL SER IGUALES, ES CERO"
      ],
      "metadata": {
        "id": "v1-9xOvqLPHl"
      }
    },
    {
      "cell_type": "code",
      "source": [
        "from sklearn.metrics import mean_absolute_error\n",
        "y_true = [3.1, 10, 12, 0.8, 4, 3.5]\n",
        "y_pred = [3.1, 10, 12, 0.8, 4, 3.5]\n",
        "mean_absolute_error(y_true, y_pred)"
      ],
      "metadata": {
        "colab": {
          "base_uri": "https://localhost:8080/"
        },
        "id": "I439-eLmLZ8o",
        "outputId": "b44d4c09-957d-4c55-ee2c-027898755096"
      },
      "execution_count": null,
      "outputs": [
        {
          "output_type": "execute_result",
          "data": {
            "text/plain": [
              "0.0"
            ]
          },
          "metadata": {},
          "execution_count": 27
        }
      ]
    },
    {
      "cell_type": "markdown",
      "source": [
        "AHORA ALTERO LA PREDICCIÓN PARA QUE EL ERROR SEA 0.25"
      ],
      "metadata": {
        "id": "fOCQY72ELfx_"
      }
    },
    {
      "cell_type": "code",
      "source": [
        "y_true = [3.1, 10, 12, 0.8, 4, 3.5]\n",
        "y_pred = [3.1, 10, 11, 0.8, 4, 3]\n",
        "mean_absolute_error(y_true, y_pred)"
      ],
      "metadata": {
        "colab": {
          "base_uri": "https://localhost:8080/"
        },
        "id": "XHScEA5FH0ps",
        "outputId": "281ec1d0-c309-4882-c258-de91dc00e2e0"
      },
      "execution_count": null,
      "outputs": [
        {
          "output_type": "execute_result",
          "data": {
            "text/plain": [
              "0.25"
            ]
          },
          "metadata": {},
          "execution_count": 21
        }
      ]
    },
    {
      "cell_type": "code",
      "source": [
        "# Ejemplo 2\n",
        "y_true = [[0.5, 1], [-1, 1], [7, -6]]\n",
        "y_pred = [[0, 2], [-1, 2], [8, -5]]\n",
        "mean_absolute_error(y_true, y_pred)"
      ],
      "metadata": {
        "id": "3LhzsD30f60T",
        "colab": {
          "base_uri": "https://localhost:8080/"
        },
        "outputId": "51b9ef7d-cd7e-47aa-8ae0-9d1b3cc42d9e"
      },
      "execution_count": null,
      "outputs": [
        {
          "output_type": "execute_result",
          "data": {
            "text/plain": [
              "0.75"
            ]
          },
          "metadata": {},
          "execution_count": 28
        }
      ]
    },
    {
      "cell_type": "code",
      "source": [
        "# Ejer 2: Crear dos matrices/arrays de valores ciertos y valores previstos, y calcular el mae.\n",
        "# ¿Qué valores deberían de tener el array pred para que el error fuese 0? ¿y para que error fuese de 0.33?"
      ],
      "metadata": {
        "id": "LnPx6A4Astfq"
      },
      "execution_count": null,
      "outputs": []
    },
    {
      "cell_type": "markdown",
      "source": [
        "EN ESTE CASO PASA LO MISMO, LOS VALORES DEBEN SER LOS MISMOS PARA QUE EL RESULTADO SEA CERO.\n",
        "ES ÁLGEBRA MATRICIAL"
      ],
      "metadata": {
        "id": "v3QDIwy0KzIL"
      }
    },
    {
      "cell_type": "code",
      "source": [
        "y_true = [[0.5, 1], [-1, 1], [7, -6]]\n",
        "y_pred = [[0.5, 1], [-1, 1], [7, -6]]\n",
        "mean_absolute_error(y_true, y_pred)"
      ],
      "metadata": {
        "colab": {
          "base_uri": "https://localhost:8080/"
        },
        "id": "fVNs1UoCK-Bw",
        "outputId": "24ad241a-5b03-494d-9701-55246ad40b96"
      },
      "execution_count": null,
      "outputs": [
        {
          "output_type": "execute_result",
          "data": {
            "text/plain": [
              "0.0"
            ]
          },
          "metadata": {},
          "execution_count": 17
        }
      ]
    },
    {
      "cell_type": "markdown",
      "source": [
        "ALTERO LOS VALORES PARA OBTENER EL ERROR SOLICITADO"
      ],
      "metadata": {
        "id": "wZTpnC4lL2Zo"
      }
    },
    {
      "cell_type": "code",
      "source": [
        "y_true = [[0.5, 1], [-1, 1], [7, -5]]\n",
        "y_pred = [[0.5, 2], [-1, 2], [7, -5]]\n",
        "mean_absolute_error(y_true, y_pred)"
      ],
      "metadata": {
        "colab": {
          "base_uri": "https://localhost:8080/"
        },
        "id": "KJl6uXzZI6wO",
        "outputId": "17c99b08-29be-4f32-fe82-2ace60958450"
      },
      "execution_count": null,
      "outputs": [
        {
          "output_type": "execute_result",
          "data": {
            "text/plain": [
              "0.3333333333333333"
            ]
          },
          "metadata": {},
          "execution_count": 18
        }
      ]
    },
    {
      "cell_type": "markdown",
      "source": [
        "EROR CUADRÁTICO MEDIO: MSE  ![imagen.png](data:image/png;base64,iVBORw0KGgoAAAANSUhEUgAAAOMAAAArCAIAAAAFV6jCAAAAA3NCSVQICAjb4U/gAAAPmklEQVR4Xu1bCVxNWRifqAgRY2uYZCJLUtmlSE3K2EPGvpeRLTKiorRokpIiW5IJY8xkTJYsZSdraVHUoBFKChWlzfxfx++63Xvffb2UarqP33Pfd77znXO/851vJ/Phw4evhI/AgRrPgXo1fofCBgUOiDggSKogB7WDA4Kk1o5zEnYpSKogA7WDA4Kk1o5zEnYpSKogA7WDA4Kk1o5zEnYpSKogA7WDA4Kk1o5zEnYpWzdZkJn1+nT4xckTR9fN169Rb/36TXbQ/j/fZOckP0yZMHb46B++59xenZNU8GV7wIHnaS/S0jOqSFJLSkp8d+y7l5g0bdLY+MSk7Dc5+e/fr7VdwnkAAtBnW2C/PtrDjYeAY3OtbNt907a3dg82W+qcpCo1a2q7fEHYmQuBwX+w2UFBsl69dv7F78OHErRFkNYI/PsJn6tXYujggWajTYBz9fptA73+ScmPzp6/4rRm2dt374xGTltlvaBBA3meFfmH9v9+VE5W1txsBD8aYxQ7l5GRkWpKlSKvc/UeO8pEp2d3+irFxSVRd+Mhqd27dm7RvNmVyFvlktSY+EQr67WFRUWghZeUrV8f/0BJFBcXE+q9tHts81pPX+lRypMjoaev34x+kfFSTk5OT7ev9cLZRcUlTu4+m90dCOaUOUtTn6UVFBTi50aX1fq6fdkcWb7a5er1O1i0kYLCzKlmMyabsXG+GKS5UjOIZuTNaBMj/TU2VjhuqpMHx48PWJSV9RqKGRw7fupc+ouXeMFxo4Zh/1qa3RvIy8Xde3Aw0AcbTnzw8Bvl1p8jpifPXIi8GbXFYx399XEf7Jw88/LfEyDoB+/y/ra9soOL15mIywQoLy8XvNtbpf03lc63azfuOLr5ZOfkkmus2KTxnm0eWJ0shI2FX7iKZ3BjpKmh3UorAl9mNcdq+VoIABQntaX19tbkOS8//9Xr7HbKn4bKbJvwnfHtuWVX/6HjjoSeouCFhUX3kx5OmrV4rYsXBXyXl7fRZ+cg4wkbNvnDzOFyAO10+KV5i1bPsFhh77yJTjYqJn70pPkge/CPUPai5y5Fjp+2EKMnTp9nj1Y65OTp8+YzFvGTzcx6ZTJuJrYUfv4qP2ZRUdGOPQcGGJrduRtPMPGAlyXPHpt3+O3Yl52dg9vOT4dzFHfAePT05+kZnKN/nziLHZpN/Ql7IAg4hXFTLHFMKU+eQsVwzqos4OEjJ7D6TEsbBkGoJJOxM/cdCMl9+5YxdObc5enzl3NuLGDf71PnLsvLy+fcHnfsfy8xGeLct7cWJdSysvXVO3UcO3JY2zatCTAnJ3exjeOp8Et+m5xgT7t36VSvngzQjA31emtrQKx7aZXxNu4lJBkP1cPctLQXZe7KV1/l578PPXG2s5oq4P1oizLQvvDPFs2V7FcuwqIbvPxfZGTyrF6/fn2L2ZMtZv+IC0DQbkfF9u3VkzxfuHx9mJH+zsDfoGJ4iIgbCgw+3K+PVtvWLTkRoPKhz54+S/s39RlBOBRybEAfHSc7a6jSqjb9RgaD6tWrh7N+mZlF3563XwAYMn3yuMaNGjG2bTh4IIIn8IQBj4lLvHHrLmSpYcMGnG/KIamQm/tJ/7Rp3bKdchsy53FKakGhyHDLy8m2bdMKD1APq9Z5QKA9XVZra5ZxOzDav482vnvrlJHUmPj7Rga6eDGoB8ZWgg6EIPiIjb8P8/F1CyXOjVY6EBdXIk29gX3MRpviTjpu8IF64sefOWU8wjVoC6A9/jfVQL8/we+kpgrNZzhkIG4yPwX26Lt3eTAy40aJ3F/Oj7y8PMQFQ8dORuD74pUb129Fr1gyjxO50oHNlZr20tIAJ2ESKeJHj58pKi4iLjt7RQjAmBHG+w4eoQ9B/R/+64S3u31TRUW8AnsWIBySihCsqKgYO6AmuG3aVlwk8lObNGms3kkVD/sOhtyJjsNutDS7senCyWvVsgXDPXr0+EmXzmqAI+6mT4E+wI1s3eprfLOFnk28siBlIiTxRJf+NEu1Q3u8bPChMsxlz8AZeDjb4htDLg4r9AZ+9MXhrK9YPE+Hxk/2XHGQK5G3oRQ0u6uLQwD8BxMDfIedvYCD2/PrYSwNHc+DX7lDhkN0QTD8nMgrxQdeO66WzVILnlUQUSXcT4ZmJTgvM195b90DjZD8KOVU+EVx5otDUu/GJYAEIid8Q5UeC4uA26Gg0BA/hxnqa3RThx8dtD8ElmWS2UjODQF5znRz+hDEUVm5NZQKVDWiEPrQ9j0HLOdMjo65B6A2l9xzLlFh4Pv3BV5+ASGhpzIysjy8d1y+doufFCKV9XbWiLt3Bh4Ef/mRK3009t59OEVQnDyUe2p0hS1ChniNk6frOpsmjZkGl2fu5w8NHTygnoxMTFwCFA1carDU2X65vJwcD+VuXTpBeBDvE5z17lsib0T9tMx+/qLVTht8qLCMQYEjS3U3ViSpOE4v390ktGQkRxAzIUGImyGOKMQRUTB9pbtxido9RNpXuU0reCQwao0aKeAnBKWrulrLr1tEly6qXTZ/wdjrzTsxW/z3MoDsn/NmThqi99HyskchecsXzWXDeSBw0BfOn+bjv3etq/e+nZsUGoou7Zf5INWl8m07iWsNNzbARYIEUA6bxCmVhQD7qa2lAZtzLOzcxcvXVyyZD/PITxyeKHCQ5zfQHwDMLRvL5DTEzWVKKryx2PgHSkpNw0L2Yk7u23cQdoZRjo4V6T8oV3FE2XCoTCTMAG/TWuTmwgFQ+65DQUHBX8dOuzutAgQ04aHSkxdsIohRft3lxYZ/AciPE0YhYwUX0Ms3gMq5fIF1oSnBKP6F4CYipoFiw7XPyX2LAIuNj2uGRNuSBbPYQ58PMRqiC0lF9kPk5JTVNRkvs5AZ2B+wGR4tfSEofsr6l3MDTOuf/M9jZKphUMh8UGyq2ERHSxQzwXlFNgoPmZmv8K3euaO4NaDMGUOwm8jrAti2jSiGJUFV8KGjk8aPRLoA5/Ek9TmnyytuiYrBkUji/CuRGqwViky4wKEnw89dvCYRv7IQoCkQG/BT27Y7uNN3HQb00yksLDwTcYkTGTZ64tgfOIcAhCvM/xE3kcA1u3fBA9L1qIUyMHFtVllbMsQUOIqKTd68+ein8hOnRpk6lehLTQ3R2uRjNsYUGh7P5y9HInGDB8K7RqWeK/tzOzoOZhqMo4YQETdsgI/I2SKpg+fpL549T099+nzO9IkAkkW1St2DKv1ERoRUmD5Uvv1KKxu7Dem8GasK0+ecCEUo+iP+gygCIQgqYci0o24CE4zQhI1OqR720OVrNxmROBsHBTa1jipsOIHcT36IB6TS2Agw9NyemCjzIiGXwqDGlFTipNIlFbqdzPntj1DH1Uvx3FtH89LVm0+eprF3hhwNug3W2CykD8Ex7dnjo5JWbitKx8L6QxMstpxJ0Eg4JVGn3oqKRQqdvSgDAukfPKifRLQKIEAmTI2H/DieO45kEBRn+MSt+yD50aOUVORH6QjNmirm5OaKmwKlgAyu9y+iQiDKfrB+CP+RUkSygpryz8OUoyfOJiQmb/VezxnoIEdBpSnELcQPj41PBAJ1xBQyMsHxCUlIohHHj04EXgp9k/z0yShLUuMSkOPopt6JMRlWT7a+bPt2onKZ6feDA4IOhfwdNmHMcDm5TxTg43ps3jlquBFRnBQFRHlUqESGEJMhSkPgRXBwPRQaNkDgwr/jPjqae7dv5MepulHcE5Q5fD0dy7mEOMPHno6bHHb2YimXunFJ6lv2FEAgkX47grzdHYj84Rs1lz+PhqG0a2UxnZpy/PQ5hJijzOchgcMpqZzEpQLejU1EbgSlH/os3KLOah0hkbgqbGrwaoh9Zg+Jg5TxU0EUyS04PfQiNRQJsnTuXttHDjckVNDk4ea4Mi0tY6G1A/JncHEgo1Ex91ascYVDDX7RF4OJj7h4jcrwIXCGt4c01uQJHzvukLSCc9xVVOJiOs3iNv3l4XgLtPy4rVtZ/sMWa/hYu4c2+nmZhaYGR4T6XUeVf588ZcxAwACbtshmnbnZSJwFNarbvzeeIamo3VDAWVMnQC+g8ldF2aunz9ORt8c+Gak06B0UgLA0MpuM/WN7ECqJiokx66NGRFRr7+z1Nld0fZEZQdEWD/Al0IeBOiye8Z6oMFGTEYYHbt+IdqSfHdwLC4patWqh27+XzdL59CwJJNjUbDYKPJhlY+dGtbaoq3WcOmkMlDEi1nlWtqQbBhpFf5g5OhjGj+Fwsxib/sI/oQDAHIefF0usnyEYRXsNwi+64UP6+dffuKsGaqoqcCd4XgdmBCUfJEkoOXDz3ApnlFTCXDz8uqmrETO6bVcwyjEghS4wo1HTUKAJ9BfZH7gEqJDNnWGOaIEu1jyLlnMIumm1o0duqczgKNEvBl1OlaZgUnCdEOGoqraHCJF8PKGM8Bqi1aM0DpPiw9kN8H8F4vJs3hZosWQNSnb+Aft/8dqOVDP/y8JgWNs6R1yQ0KQCIlAVyMhAhuAn4JB8/AN9twfxE6ePum70c/fyZ+AjlaM3zBwEy0+HgYnSIPQOEti7gw5VmEjFJqISgW6kP4+ehNmkU0AniuUSO2lp1lyDK8VtKzcq6RyFU4XO0QVzplhZTkfpD1UrHgK+O4KQOUbvKQ8OGdrkuxs1NihUHsMnkQgDARpxzIjvkXWWdiKF36yZIrLUuJbiCvEVpixxIqpraEuC40cFJJiCmwwrMdFMbMpMHFlmRCUO7/8Bl7Zz9HhYRMbLTJT++V//1es3KOmhK3SnrxswGYYP7o0466+q0n6EyVCKOGfPDPp00d2LQiX9vPn3Qx+F/Q3Y6l5+/ErEnDV1PJsagha0Sw/Vl3zzGXPrlqRChuBdQc2QZBlsutGQQfCkGzduxI7nEJL7BxxAQyPCWHZKE6E0TDPSbXEJSfDykXVHTZjkwMFixPIjTA2PnQwfNKAPJMxq/qdgnH14FAQGkT2KwiOqYq4bt/p4rK3qLj726pULwZXeuedgaR8Pm6MSlqpbkgpmMDpHkeVB56g1qxMA/eeunlvz8/PXuW4u+VDyqeOf4mfp//ogooOEAP4iwURJEjF86HssjyJEyuWv42fgjIIgXAjk/jqolKn1w/eAq/d7yHGU9CScZ80e3rx1D26+tJlU8k4ynPe4Zr/vZ+0O/xMB+WCS615m6/xtO2X09lasJe+z9iFMlpIDdU5SpeSPgF5TOFC3Yv+awnVhH9JzQJBU6XkmzKgODgiSWh1cF9aUngOCpErPM2FGdXBAkNTq4LqwpvQcECRVep4JM6qDA4KkVgfXhTWl54AgqdLzTJhRHRwQJLU6uC6sKT0H/gMtodFn8y/YWgAAAABJRU5ErkJggg==)"
      ],
      "metadata": {
        "id": "tLgS_mqnNySD"
      }
    },
    {
      "cell_type": "code",
      "source": [
        "# Error cuadrático medio - mse\n",
        "from sklearn.metrics import mean_squared_error\n",
        "y_true = [3, -0.5, 2, 7]\n",
        "y_pred = [2.5, 0.0, 2, 8]\n",
        "mean_squared_error(y_true, y_pred)\n"
      ],
      "metadata": {
        "colab": {
          "base_uri": "https://localhost:8080/"
        },
        "id": "59efr-GWgKP6",
        "outputId": "c04e799d-7b67-4f8f-a65b-b12178d6def6"
      },
      "execution_count": null,
      "outputs": [
        {
          "output_type": "execute_result",
          "data": {
            "text/plain": [
              "0.375"
            ]
          },
          "metadata": {},
          "execution_count": 14
        }
      ]
    },
    {
      "cell_type": "code",
      "source": [
        "# Ejer 3: Crear dos vectores/arrays de valores ciertos y valores previstos, y calcular el mse.\n",
        "# ¿Qué valores deberían de tener el array pred para que el error fuese 0? ¿y para que error fuese de 0.25?\n",
        "# Nota: Es muy interesante comparar los resultados al aplicaer mae y mse sobre el mismo conjunto de datos. Podrás obervar\n",
        "#       que mse \"penaliza más\" (es decir, el número que se obtiene es mayor) con las diferencias entre los valores originales y los predichos que mae"
      ],
      "metadata": {
        "id": "FLZt6j17u7sE"
      },
      "execution_count": null,
      "outputs": []
    },
    {
      "cell_type": "markdown",
      "source": [
        "EN ESTE CASO SI LOS VECTORES SON IGUALES EL RESULTADO ES CERO."
      ],
      "metadata": {
        "id": "4KxQLRuTUwBy"
      }
    },
    {
      "cell_type": "code",
      "source": [
        "from sklearn.metrics import mean_squared_error\n",
        "y_true = [3.1, 10, 12, 0.8, 4, 3.5]\n",
        "y_pred = [3.1, 10, 12, 0.8, 4, 3.5]\n",
        "mean_squared_error(y_true, y_pred)"
      ],
      "metadata": {
        "colab": {
          "base_uri": "https://localhost:8080/"
        },
        "id": "Ltl5rI0mOObU",
        "outputId": "c13f92be-39e2-4778-965b-cf20d66893c5"
      },
      "execution_count": null,
      "outputs": [
        {
          "output_type": "execute_result",
          "data": {
            "text/plain": [
              "0.0"
            ]
          },
          "metadata": {},
          "execution_count": 37
        }
      ]
    },
    {
      "cell_type": "markdown",
      "source": [
        "EL ERROR CUADRATICO MEDIO PENALIZA MÁS LOS VALORES MAYORES"
      ],
      "metadata": {
        "id": "F0W5thSwWcci"
      }
    },
    {
      "cell_type": "code",
      "source": [
        "from sklearn.metrics import mean_squared_error\n",
        "y_true = [3.1, 10, 12, 0.8, 4, 3.5]\n",
        "y_pred = [3.4, 10, 11, 0.4, 4, 3]\n",
        "mean_squared_error(y_true, y_pred)"
      ],
      "metadata": {
        "colab": {
          "base_uri": "https://localhost:8080/"
        },
        "id": "JgWR8VMYOXJ4",
        "outputId": "41990762-ab0f-4b59-881c-63d8c7438c77"
      },
      "execution_count": null,
      "outputs": [
        {
          "output_type": "execute_result",
          "data": {
            "text/plain": [
              "0.25"
            ]
          },
          "metadata": {},
          "execution_count": 42
        }
      ]
    },
    {
      "cell_type": "code",
      "source": [
        "# Ejer 4: Crear dos matrices/arrays de valores ciertos y valores previstos, y calcular el mae.\n",
        "# ¿Qué valores deberían de tener el array pred para que el error fuese 0? ¿y para que error fuese de 0.33?\n"
      ],
      "metadata": {
        "id": "M9nZd4nLvIRB"
      },
      "execution_count": null,
      "outputs": []
    },
    {
      "cell_type": "markdown",
      "source": [
        "EL EJERCICIO 4 Y EL 2 SON EL MISMO"
      ],
      "metadata": {
        "id": "vVPxT96dXBgY"
      }
    },
    {
      "cell_type": "markdown",
      "source": [
        "ERROR DE PORCENTAJE ABSOLUTO MEDIO: MAPE   ![imagen.png](data:image/png;base64,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)"
      ],
      "metadata": {
        "id": "WymNgyACX4Oh"
      }
    },
    {
      "cell_type": "code",
      "source": [
        "# Error de porcentaje absoluto medio - mape\n",
        "from sklearn.metrics import mean_absolute_percentage_error\n",
        "y_true = [3, -0.5, 2, 7]\n",
        "y_pred = [2.5, 0.0, 2, 8]\n",
        "mean_absolute_percentage_error(y_true, y_pred)"
      ],
      "metadata": {
        "colab": {
          "base_uri": "https://localhost:8080/"
        },
        "id": "0j3DDJPnBTmF",
        "outputId": "15363258-5e69-496a-fc26-5ccaa583dee4"
      },
      "execution_count": null,
      "outputs": [
        {
          "output_type": "execute_result",
          "data": {
            "text/plain": [
              "0.3273809523809524"
            ]
          },
          "metadata": {},
          "execution_count": 16
        }
      ]
    },
    {
      "cell_type": "code",
      "source": [
        "# Ejer 5: Crear dos vectores/arrays de valores ciertos y valores previstos, y calcular el mape.\n",
        "# ¿Qué valores deberían de tener el array pred para que el error fuese 0?"
      ],
      "metadata": {
        "id": "0vsYXdRqB0TE"
      },
      "execution_count": null,
      "outputs": []
    },
    {
      "cell_type": "markdown",
      "source": [
        "EL EFECTO ES SIEMPRE EL MISMO: CUANTO MÁS CERCANOS LOS VALORES, MÁS PRÓXIMO A CERO EL TANTO POR CIENTO DE ERROR."
      ],
      "metadata": {
        "id": "b4dakSnWXZpH"
      }
    },
    {
      "cell_type": "code",
      "source": [
        "from sklearn.metrics import mean_absolute_percentage_error\n",
        "y_true = [3.1, 10, 12, 0.8, 4, 3.5]\n",
        "y_pred = [3.1, 10, 12, 0.8, 4, 3.5]\n",
        "mean_absolute_percentage_error(y_true, y_pred)"
      ],
      "metadata": {
        "colab": {
          "base_uri": "https://localhost:8080/"
        },
        "id": "wej5zGM6XKug",
        "outputId": "ba0300c8-e808-4763-d9a8-d21daffd1661"
      },
      "execution_count": null,
      "outputs": [
        {
          "output_type": "execute_result",
          "data": {
            "text/plain": [
              "0.0"
            ]
          },
          "metadata": {},
          "execution_count": 43
        }
      ]
    },
    {
      "cell_type": "code",
      "source": [
        "from sklearn.metrics import mean_absolute_percentage_error\n",
        "y_true = [3.1, 10, 12, 0.8, 4, 3.5]\n",
        "y_pred = [3.4, 10, 11, 0.4, 4, 3]\n",
        "mean_absolute_percentage_error(y_true, y_pred)"
      ],
      "metadata": {
        "colab": {
          "base_uri": "https://localhost:8080/"
        },
        "id": "GtTWOxLIYLXF",
        "outputId": "6108ea9a-3139-4ffd-f7ef-f5de7b843119"
      },
      "execution_count": null,
      "outputs": [
        {
          "output_type": "execute_result",
          "data": {
            "text/plain": [
              "0.13716077828981055"
            ]
          },
          "metadata": {},
          "execution_count": 44
        }
      ]
    },
    {
      "cell_type": "code",
      "source": [
        "# Ejer 6: Crear dos matrices/arrays de valores ciertos y valores previstos, y calcular el MAPE.\n",
        "# ¿Qué valores deberían de tener el array pred para que el error fuese 0?"
      ],
      "metadata": {
        "id": "085pmFVO-cA3"
      },
      "execution_count": null,
      "outputs": []
    },
    {
      "cell_type": "markdown",
      "source": [
        "EL EJERCICIO 5 Y 6 SON EL MISMO."
      ],
      "metadata": {
        "id": "g3gehDVCYeX_"
      }
    },
    {
      "cell_type": "markdown",
      "source": [
        "***DEFINICIÓN***\n",
        "\n",
        "El **error absoluto medio** (EAM), también conocido como desviación media absoluta (DMA), es una medida de la precisión de un conjunto de valores en comparación con un valor de referencia o un conjunto de valores conocidos. Se utiliza comúnmente en estadísticas y análisis numérico para evaluar la calidad de un modelo o la precisión de un conjunto de datos.\n",
        "\n",
        "La fórmula para el error absoluto medio se expresa como:\n",
        "\n",
        "![imagen.png](data:image/png;base64,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)\n",
        "\n",
        "donde:\n",
        "- \\( n \\) es el número total de observaciones o puntos de datos,\n",
        "- \\( X_i \\) es el valor observado o calculado en el punto \\( i \\),\n",
        "- \\( Y_i \\) es el valor de referencia o el valor observado verdadero en el punto \\( i \\), y\n",
        "- \\( | \\cdot | \\) denota el valor absoluto.\n",
        "\n",
        "En palabras simples, el error absoluto medio es el promedio de las diferencias absolutas entre cada valor observado y su correspondiente valor de referencia. Un valor más bajo de EAM indica una mayor precisión en las predicciones o mediciones, ya que implica que las diferencias entre los valores observados y los valores de referencia son menores en promedio.\n",
        "\n",
        "El EAM es una métrica útil para evaluar la precisión de modelos predictivos, sistemas de medición, o cualquier otra aplicación en la que se quiera cuantificar la discrepancia entre valores observados y valores de referencia."
      ],
      "metadata": {
        "id": "i5-Lf0DKS7yD"
      }
    },
    {
      "cell_type": "markdown",
      "source": [
        "\n",
        "\n",
        "---\n",
        "\n"
      ],
      "metadata": {
        "id": "q405xU7UT5bo"
      }
    },
    {
      "cell_type": "markdown",
      "source": [
        "***DEFINICIÓN***\n",
        "\n",
        "El **Error Cuadrático Medio** (ECM), también conocido como Mean Squared Error (MSE) en inglés, es otra medida comúnmente utilizada para evaluar la precisión de un modelo predictivo o la calidad de un conjunto de datos. El ECM mide la magnitud promedio de los errores al cuadrado entre los valores predichos y los valores reales.\n",
        "\n",
        "La fórmula para el Error Cuadrático Medio es la siguiente:\n",
        "\n",
        "![imagen.png](data:image/png;base64,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)\n",
        "\n",
        "donde:\n",
        "- \\( n \\) es el número total de observaciones o puntos de datos,\n",
        "- \\( X_i \\) es el valor predicho o calculado en el punto \\( i \\),\n",
        "- \\( Y_i \\) es el valor real u observado en el punto \\( i \\).\n",
        "\n",
        "En términos simples, el Error Cuadrático Medio toma la diferencia entre cada valor predicho y su valor real, lo eleva al cuadrado y luego toma el promedio de estas diferencias cuadráticas. Este enfoque tiene la ventaja de penalizar más severamente los errores más grandes, ya que se elevan al cuadrado.\n",
        "\n",
        "Es importante destacar que el ECM da más peso a los errores más grandes debido al cuadrado en la fórmula. Por lo tanto, un ECM más bajo indica una mayor precisión del modelo, ya que implica que las predicciones están más cerca de los valores reales en promedio. Sin embargo, al ser una medida cuadrática, el ECM puede ser sensible a valores atípicos, ya que sus diferencias se amplifican al cuadrado."
      ],
      "metadata": {
        "id": "SCMS0ih4Tk4V"
      }
    }
  ]
}