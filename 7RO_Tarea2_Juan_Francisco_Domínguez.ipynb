{
  "nbformat": 4,
  "nbformat_minor": 0,
  "metadata": {
    "colab": {
      "provenance": [],
      "authorship_tag": "ABX9TyNDeXFXN0JLueqkw6sFs3Qd",
      "include_colab_link": true
    },
    "kernelspec": {
      "name": "python3",
      "display_name": "Python 3"
    },
    "language_info": {
      "name": "python"
    }
  },
  "cells": [
    {
      "cell_type": "markdown",
      "metadata": {
        "id": "view-in-github",
        "colab_type": "text"
      },
      "source": [
        "<a href=\"https://colab.research.google.com/github/juanfra68/IA_bigData/blob/main/7RO_Tarea2_Juan_Francisco_Dom%C3%ADnguez.ipynb\" target=\"_parent\"><img src=\"https://colab.research.google.com/assets/colab-badge.svg\" alt=\"Open In Colab\"/></a>"
      ]
    },
    {
      "cell_type": "markdown",
      "source": [
        "# 1CEIABDTA - 7RO\n",
        "\n",
        "Programación de Inteligencia Artificial (BDIA_PIA)\n",
        "\n",
        "PROFESOR: Carlos Fernández de la Torre"
      ],
      "metadata": {
        "id": "3AoijWRdlnPE"
      }
    },
    {
      "cell_type": "markdown",
      "source": [
        "ALUMNO: Juan Francisco Domínguez Domínguez"
      ],
      "metadata": {
        "id": "uJ8Hb3UForli"
      }
    },
    {
      "cell_type": "markdown",
      "source": [
        "TAREA 2 (23-24) RECORRIDO EN ABANICO"
      ],
      "metadata": {
        "id": "qEMgv5JelcsC"
      }
    },
    {
      "cell_type": "markdown",
      "source": [],
      "metadata": {
        "id": "XmZEWvzBuHlc"
      }
    },
    {
      "cell_type": "code",
      "source": [
        "import matplotlib.pyplot as plt\n",
        "import numpy as np\n",
        "from collections import deque"
      ],
      "metadata": {
        "id": "tR9NLZXKti_B"
      },
      "execution_count": 10,
      "outputs": []
    },
    {
      "cell_type": "code",
      "source": [
        "# FUNCION PARA DESCUBRIR EL CAMINO DE ORIGEN A DESTION\n",
        "def bfs(maze, start, end):\n",
        "    rows, cols = len(maze), len(maze[0])\n",
        "    # SE CREA LA MATRIZ DE MARCA DE PASO\n",
        "    visited = [[False] * cols for _ in range(rows)]\n",
        "    # SE CREA LA COLA PARA RECORRER EL LABERINTO\n",
        "    queue = deque([(start[0], start[1], [])])\n",
        "\n",
        "    while queue:\n",
        "        # SACA EL PRIMER ELEMENTO DE LA COLA\n",
        "        current_row, current_col, path = queue.popleft()\n",
        "        # SI ES LA CASILLA FINAL, SALE DEVOLVIENDO EL CAMINO\n",
        "        if (current_row, current_col) == end:\n",
        "            return path + [(current_row, current_col)]\n",
        "\n",
        "        # SI SE ESTÁ DENTRO DEL LABERINTO\n",
        "        if 0 <= current_row < rows and 0 <= current_col < cols and maze[current_row][current_col] == 0 and not visited[current_row][current_col]:\n",
        "            # MARCA COMO VISITADA LA CASILLA\n",
        "            visited[current_row][current_col] = True\n",
        "            # MATRIZ DE RECORRIDO DE LAS CELDAS ADYACENTES\n",
        "            neighbors = [\n",
        "                (current_row - 1, current_col),\n",
        "                (current_row + 1, current_col),\n",
        "                (current_row, current_col - 1),\n",
        "                (current_row, current_col + 1)\n",
        "            ]\n",
        "            for neighbor in neighbors:\n",
        "                # SE AÑADEN LAS CELDAS ADYACENTES A LA COLA\n",
        "                queue.append((neighbor[0], neighbor[1], path + [(current_row, current_col)]))\n",
        "\n",
        "    # SI NO ENCUENTRA LA SALIDA, DEVUELVE NULO\n",
        "    return None"
      ],
      "metadata": {
        "id": "OnaHuACvtnpC"
      },
      "execution_count": 11,
      "outputs": []
    },
    {
      "cell_type": "code",
      "source": [
        "# FUNCIÓN PARA IMPRIMIR EN CONSOLA LA MATRIZ\n",
        "def print_maze(maze, path):\n",
        "    for i, row in enumerate(maze):\n",
        "        for j, cell in enumerate(row):\n",
        "            if (i, j) == start:\n",
        "                print('S', end=' ')\n",
        "            elif (i, j) == end:\n",
        "                print('E', end=' ')\n",
        "            elif (i, j) in path:\n",
        "                print('.', end=' ')\n",
        "            elif cell == 1:\n",
        "                print('#', end=' ')\n",
        "            else:\n",
        "                print(' ', end=' ')\n",
        "        print()"
      ],
      "metadata": {
        "id": "kztlvuZXttfg"
      },
      "execution_count": 12,
      "outputs": []
    },
    {
      "cell_type": "code",
      "source": [
        "# FUNCIÓN PARA IMPRIMIR EL GRÁFICO DE LA MATRIZ\n",
        "def plot_maze(maze, path):\n",
        "    maze_array = np.array(maze)\n",
        "    rows, cols = maze_array.shape\n",
        "    cmap = plt.cm.gray\n",
        "    plt.imshow(maze_array, cmap=cmap, interpolation='none', origin='upper')\n",
        "\n",
        "    if path:\n",
        "        path_array = np.zeros_like(maze_array)\n",
        "        for r, c in path:\n",
        "            path_array[r, c] = 1\n",
        "        plt.imshow(path_array, cmap=plt.cm.Blues, interpolation='none', origin='upper', alpha=0.5)\n",
        "\n",
        "    plt.xticks(np.arange(0.5, cols, 1), [])\n",
        "    plt.yticks(np.arange(0.5, rows, 1), [])\n",
        "    plt.grid(color='k', linestyle='-', linewidth=2)\n",
        "    plt.show()"
      ],
      "metadata": {
        "id": "a2e_Vyi0txQz"
      },
      "execution_count": 13,
      "outputs": []
    },
    {
      "cell_type": "code",
      "execution_count": 14,
      "metadata": {
        "colab": {
          "base_uri": "https://localhost:8080/",
          "height": 536
        },
        "id": "irlkx8yCjOfK",
        "outputId": "3ea761ca-34f5-49bd-fdd7-fa699eddda83"
      },
      "outputs": [
        {
          "output_type": "stream",
          "name": "stdout",
          "text": [
            "Camino encontrado:\n",
            "S #       \n",
            ". #   #   \n",
            ".     #   \n",
            ". # # #   \n",
            ". . . . E \n",
            "---------------------------\n"
          ]
        },
        {
          "output_type": "display_data",
          "data": {
            "text/plain": [
              "<Figure size 640x480 with 1 Axes>"
            ],
            "image/png": "[encoded data removed]"
          },
          "metadata": {}
        }
      ],
      "source": [
        "# Ejemplo usado:\n",
        "maze = [\n",
        "    [0, 1, 0, 0, 0],\n",
        "    [0, 1, 0, 1, 0],\n",
        "    [0, 0, 0, 1, 0],\n",
        "    [0, 1, 1, 1, 0],\n",
        "    [0, 0, 0, 0, 0]\n",
        "]\n",
        "\n",
        "start = (0, 0)\n",
        "end = (4, 4)\n",
        "\n",
        "path = bfs(maze, start, end)\n",
        "\n",
        "if path:\n",
        "    print(\"Camino encontrado:\")\n",
        "    print_maze(maze, path)\n",
        "    print(f'---------------------------')\n",
        "    plot_maze(maze, path)\n",
        "else:\n",
        "    print(\"Camino no encontrado.\")\n"
      ]
    },
    {
      "cell_type": "markdown",
      "source": [
        "FIN"
      ],
      "metadata": {
        "id": "SKn5S9xztNpp"
      }
    }
  ]
}